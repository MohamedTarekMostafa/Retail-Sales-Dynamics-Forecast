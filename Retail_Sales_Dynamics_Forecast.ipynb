{
  "nbformat": 4,
  "nbformat_minor": 0,
  "metadata": {
    "colab": {
      "provenance": []
    },
    "kernelspec": {
      "name": "python3",
      "display_name": "Python 3"
    },
    "language_info": {
      "name": "python"
    }
  },
  "cells": [
    {
      "cell_type": "code",
      "source": [
        "!pip install pandas numpy joblib scikit-learn\n",
        "!pip install prophet\n",
        "!pip install streamlit pyngrok"
      ],
      "metadata": {
        "id": "5v5td0Bb4-_t",
        "outputId": "413f5f56-c13a-4d5e-c11b-ae2f3fe903fe",
        "colab": {
          "base_uri": "https://localhost:8080/"
        }
      },
      "execution_count": 1,
      "outputs": [
        {
          "output_type": "stream",
          "name": "stdout",
          "text": [
            "Requirement already satisfied: pandas in /usr/local/lib/python3.12/dist-packages (2.2.2)\n",
            "Requirement already satisfied: numpy in /usr/local/lib/python3.12/dist-packages (2.0.2)\n",
            "Requirement already satisfied: joblib in /usr/local/lib/python3.12/dist-packages (1.5.2)\n",
            "Requirement already satisfied: scikit-learn in /usr/local/lib/python3.12/dist-packages (1.6.1)\n",
            "Requirement already satisfied: python-dateutil>=2.8.2 in /usr/local/lib/python3.12/dist-packages (from pandas) (2.9.0.post0)\n",
            "Requirement already satisfied: pytz>=2020.1 in /usr/local/lib/python3.12/dist-packages (from pandas) (2025.2)\n",
            "Requirement already satisfied: tzdata>=2022.7 in /usr/local/lib/python3.12/dist-packages (from pandas) (2025.2)\n",
            "Requirement already satisfied: scipy>=1.6.0 in /usr/local/lib/python3.12/dist-packages (from scikit-learn) (1.16.2)\n",
            "Requirement already satisfied: threadpoolctl>=3.1.0 in /usr/local/lib/python3.12/dist-packages (from scikit-learn) (3.6.0)\n",
            "Requirement already satisfied: six>=1.5 in /usr/local/lib/python3.12/dist-packages (from python-dateutil>=2.8.2->pandas) (1.17.0)\n",
            "Requirement already satisfied: prophet in /usr/local/lib/python3.12/dist-packages (1.1.7)\n",
            "Requirement already satisfied: cmdstanpy>=1.0.4 in /usr/local/lib/python3.12/dist-packages (from prophet) (1.2.5)\n",
            "Requirement already satisfied: numpy>=1.15.4 in /usr/local/lib/python3.12/dist-packages (from prophet) (2.0.2)\n",
            "Requirement already satisfied: matplotlib>=2.0.0 in /usr/local/lib/python3.12/dist-packages (from prophet) (3.10.0)\n",
            "Requirement already satisfied: pandas>=1.0.4 in /usr/local/lib/python3.12/dist-packages (from prophet) (2.2.2)\n",
            "Requirement already satisfied: holidays<1,>=0.25 in /usr/local/lib/python3.12/dist-packages (from prophet) (0.81)\n",
            "Requirement already satisfied: tqdm>=4.36.1 in /usr/local/lib/python3.12/dist-packages (from prophet) (4.67.1)\n",
            "Requirement already satisfied: importlib_resources in /usr/local/lib/python3.12/dist-packages (from prophet) (6.5.2)\n",
            "Requirement already satisfied: stanio<2.0.0,>=0.4.0 in /usr/local/lib/python3.12/dist-packages (from cmdstanpy>=1.0.4->prophet) (0.5.1)\n",
            "Requirement already satisfied: python-dateutil in /usr/local/lib/python3.12/dist-packages (from holidays<1,>=0.25->prophet) (2.9.0.post0)\n",
            "Requirement already satisfied: contourpy>=1.0.1 in /usr/local/lib/python3.12/dist-packages (from matplotlib>=2.0.0->prophet) (1.3.3)\n",
            "Requirement already satisfied: cycler>=0.10 in /usr/local/lib/python3.12/dist-packages (from matplotlib>=2.0.0->prophet) (0.12.1)\n",
            "Requirement already satisfied: fonttools>=4.22.0 in /usr/local/lib/python3.12/dist-packages (from matplotlib>=2.0.0->prophet) (4.60.0)\n",
            "Requirement already satisfied: kiwisolver>=1.3.1 in /usr/local/lib/python3.12/dist-packages (from matplotlib>=2.0.0->prophet) (1.4.9)\n",
            "Requirement already satisfied: packaging>=20.0 in /usr/local/lib/python3.12/dist-packages (from matplotlib>=2.0.0->prophet) (25.0)\n",
            "Requirement already satisfied: pillow>=8 in /usr/local/lib/python3.12/dist-packages (from matplotlib>=2.0.0->prophet) (11.3.0)\n",
            "Requirement already satisfied: pyparsing>=2.3.1 in /usr/local/lib/python3.12/dist-packages (from matplotlib>=2.0.0->prophet) (3.2.4)\n",
            "Requirement already satisfied: pytz>=2020.1 in /usr/local/lib/python3.12/dist-packages (from pandas>=1.0.4->prophet) (2025.2)\n",
            "Requirement already satisfied: tzdata>=2022.7 in /usr/local/lib/python3.12/dist-packages (from pandas>=1.0.4->prophet) (2025.2)\n",
            "Requirement already satisfied: six>=1.5 in /usr/local/lib/python3.12/dist-packages (from python-dateutil->holidays<1,>=0.25->prophet) (1.17.0)\n",
            "Collecting streamlit\n",
            "  Downloading streamlit-1.50.0-py3-none-any.whl.metadata (9.5 kB)\n",
            "Collecting pyngrok\n",
            "  Downloading pyngrok-7.4.0-py3-none-any.whl.metadata (8.1 kB)\n",
            "Requirement already satisfied: altair!=5.4.0,!=5.4.1,<6,>=4.0 in /usr/local/lib/python3.12/dist-packages (from streamlit) (5.5.0)\n",
            "Requirement already satisfied: blinker<2,>=1.5.0 in /usr/local/lib/python3.12/dist-packages (from streamlit) (1.9.0)\n",
            "Requirement already satisfied: cachetools<7,>=4.0 in /usr/local/lib/python3.12/dist-packages (from streamlit) (5.5.2)\n",
            "Requirement already satisfied: click<9,>=7.0 in /usr/local/lib/python3.12/dist-packages (from streamlit) (8.2.1)\n",
            "Requirement already satisfied: numpy<3,>=1.23 in /usr/local/lib/python3.12/dist-packages (from streamlit) (2.0.2)\n",
            "Requirement already satisfied: packaging<26,>=20 in /usr/local/lib/python3.12/dist-packages (from streamlit) (25.0)\n",
            "Requirement already satisfied: pandas<3,>=1.4.0 in /usr/local/lib/python3.12/dist-packages (from streamlit) (2.2.2)\n",
            "Requirement already satisfied: pillow<12,>=7.1.0 in /usr/local/lib/python3.12/dist-packages (from streamlit) (11.3.0)\n",
            "Requirement already satisfied: protobuf<7,>=3.20 in /usr/local/lib/python3.12/dist-packages (from streamlit) (5.29.5)\n",
            "Requirement already satisfied: pyarrow>=7.0 in /usr/local/lib/python3.12/dist-packages (from streamlit) (18.1.0)\n",
            "Requirement already satisfied: requests<3,>=2.27 in /usr/local/lib/python3.12/dist-packages (from streamlit) (2.32.4)\n",
            "Requirement already satisfied: tenacity<10,>=8.1.0 in /usr/local/lib/python3.12/dist-packages (from streamlit) (8.5.0)\n",
            "Requirement already satisfied: toml<2,>=0.10.1 in /usr/local/lib/python3.12/dist-packages (from streamlit) (0.10.2)\n",
            "Requirement already satisfied: typing-extensions<5,>=4.4.0 in /usr/local/lib/python3.12/dist-packages (from streamlit) (4.15.0)\n",
            "Requirement already satisfied: watchdog<7,>=2.1.5 in /usr/local/lib/python3.12/dist-packages (from streamlit) (6.0.0)\n",
            "Requirement already satisfied: gitpython!=3.1.19,<4,>=3.0.7 in /usr/local/lib/python3.12/dist-packages (from streamlit) (3.1.45)\n",
            "Collecting pydeck<1,>=0.8.0b4 (from streamlit)\n",
            "  Downloading pydeck-0.9.1-py2.py3-none-any.whl.metadata (4.1 kB)\n",
            "Requirement already satisfied: tornado!=6.5.0,<7,>=6.0.3 in /usr/local/lib/python3.12/dist-packages (from streamlit) (6.4.2)\n",
            "Requirement already satisfied: PyYAML>=5.1 in /usr/local/lib/python3.12/dist-packages (from pyngrok) (6.0.2)\n",
            "Requirement already satisfied: jinja2 in /usr/local/lib/python3.12/dist-packages (from altair!=5.4.0,!=5.4.1,<6,>=4.0->streamlit) (3.1.6)\n",
            "Requirement already satisfied: jsonschema>=3.0 in /usr/local/lib/python3.12/dist-packages (from altair!=5.4.0,!=5.4.1,<6,>=4.0->streamlit) (4.25.1)\n",
            "Requirement already satisfied: narwhals>=1.14.2 in /usr/local/lib/python3.12/dist-packages (from altair!=5.4.0,!=5.4.1,<6,>=4.0->streamlit) (2.5.0)\n",
            "Requirement already satisfied: gitdb<5,>=4.0.1 in /usr/local/lib/python3.12/dist-packages (from gitpython!=3.1.19,<4,>=3.0.7->streamlit) (4.0.12)\n",
            "Requirement already satisfied: python-dateutil>=2.8.2 in /usr/local/lib/python3.12/dist-packages (from pandas<3,>=1.4.0->streamlit) (2.9.0.post0)\n",
            "Requirement already satisfied: pytz>=2020.1 in /usr/local/lib/python3.12/dist-packages (from pandas<3,>=1.4.0->streamlit) (2025.2)\n",
            "Requirement already satisfied: tzdata>=2022.7 in /usr/local/lib/python3.12/dist-packages (from pandas<3,>=1.4.0->streamlit) (2025.2)\n",
            "Requirement already satisfied: charset_normalizer<4,>=2 in /usr/local/lib/python3.12/dist-packages (from requests<3,>=2.27->streamlit) (3.4.3)\n",
            "Requirement already satisfied: idna<4,>=2.5 in /usr/local/lib/python3.12/dist-packages (from requests<3,>=2.27->streamlit) (3.10)\n",
            "Requirement already satisfied: urllib3<3,>=1.21.1 in /usr/local/lib/python3.12/dist-packages (from requests<3,>=2.27->streamlit) (2.5.0)\n",
            "Requirement already satisfied: certifi>=2017.4.17 in /usr/local/lib/python3.12/dist-packages (from requests<3,>=2.27->streamlit) (2025.8.3)\n",
            "Requirement already satisfied: smmap<6,>=3.0.1 in /usr/local/lib/python3.12/dist-packages (from gitdb<5,>=4.0.1->gitpython!=3.1.19,<4,>=3.0.7->streamlit) (5.0.2)\n",
            "Requirement already satisfied: MarkupSafe>=2.0 in /usr/local/lib/python3.12/dist-packages (from jinja2->altair!=5.4.0,!=5.4.1,<6,>=4.0->streamlit) (3.0.2)\n",
            "Requirement already satisfied: attrs>=22.2.0 in /usr/local/lib/python3.12/dist-packages (from jsonschema>=3.0->altair!=5.4.0,!=5.4.1,<6,>=4.0->streamlit) (25.3.0)\n",
            "Requirement already satisfied: jsonschema-specifications>=2023.03.6 in /usr/local/lib/python3.12/dist-packages (from jsonschema>=3.0->altair!=5.4.0,!=5.4.1,<6,>=4.0->streamlit) (2025.9.1)\n",
            "Requirement already satisfied: referencing>=0.28.4 in /usr/local/lib/python3.12/dist-packages (from jsonschema>=3.0->altair!=5.4.0,!=5.4.1,<6,>=4.0->streamlit) (0.36.2)\n",
            "Requirement already satisfied: rpds-py>=0.7.1 in /usr/local/lib/python3.12/dist-packages (from jsonschema>=3.0->altair!=5.4.0,!=5.4.1,<6,>=4.0->streamlit) (0.27.1)\n",
            "Requirement already satisfied: six>=1.5 in /usr/local/lib/python3.12/dist-packages (from python-dateutil>=2.8.2->pandas<3,>=1.4.0->streamlit) (1.17.0)\n",
            "Downloading streamlit-1.50.0-py3-none-any.whl (10.1 MB)\n",
            "\u001b[2K   \u001b[90m━━━━━━━━━━━━━━━━━━━━━━━━━━━━━━━━━━━━━━━━\u001b[0m \u001b[32m10.1/10.1 MB\u001b[0m \u001b[31m76.1 MB/s\u001b[0m eta \u001b[36m0:00:00\u001b[0m\n",
            "\u001b[?25hDownloading pyngrok-7.4.0-py3-none-any.whl (25 kB)\n",
            "Downloading pydeck-0.9.1-py2.py3-none-any.whl (6.9 MB)\n",
            "\u001b[2K   \u001b[90m━━━━━━━━━━━━━━━━━━━━━━━━━━━━━━━━━━━━━━━━\u001b[0m \u001b[32m6.9/6.9 MB\u001b[0m \u001b[31m101.8 MB/s\u001b[0m eta \u001b[36m0:00:00\u001b[0m\n",
            "\u001b[?25hInstalling collected packages: pyngrok, pydeck, streamlit\n",
            "Successfully installed pydeck-0.9.1 pyngrok-7.4.0 streamlit-1.50.0\n"
          ]
        }
      ]
    },
    {
      "cell_type": "code",
      "source": [
        "import pandas as pd\n",
        "import numpy as np\n",
        "from prophet import Prophet\n",
        "import joblib\n",
        "from sklearn.metrics import mean_absolute_percentage_error\n",
        "\n",
        "try:\n",
        "    df_train = pd.read_csv('/content/train.csv', low_memory=False)\n",
        "    df_store = pd.read_csv('/content/store.csv', low_memory=False)\n",
        "except FileNotFoundError:\n",
        "    print(\" ERROR: One or more data files (train.csv, store.csv) are missing.\")\n",
        "    exit()\n",
        "\n",
        "df_merged = pd.merge(df_train, df_store, on='Store', how='left')\n",
        "\n",
        "store_id = 1\n",
        "df_prophet = df_merged[df_merged['Store'] == store_id].copy()\n",
        "\n",
        "df_prophet = df_prophet[(df_prophet['Open'] == 1) & (df_prophet['Sales'] > 0)]\n",
        "\n",
        "df_prophet = df_prophet.rename(columns={'Date': 'ds', 'Sales': 'y'})\n",
        "df_prophet['ds'] = pd.to_datetime(df_prophet['ds'])\n",
        "\n",
        "TEST_SIZE = 90\n",
        "df_train_eval = df_prophet.iloc[:-TEST_SIZE]\n",
        "df_test_eval = df_prophet.iloc[-TEST_SIZE:]\n",
        "\n",
        "df_prophet.to_csv('full_store_data.csv', index=False)\n",
        "\n",
        "print(f\" Data prepared and split successfully. Training on {df_train_eval.shape[0]} days, testing on {df_test_eval.shape[0]} days.\")"
      ],
      "metadata": {
        "id": "2P3X4n4r5XG4",
        "outputId": "0d92b752-daf0-4f67-9880-0acf15fa45e8",
        "colab": {
          "base_uri": "https://localhost:8080/"
        }
      },
      "execution_count": 2,
      "outputs": [
        {
          "output_type": "stream",
          "name": "stdout",
          "text": [
            "✅ Data prepared and split successfully. Training on 330 days, testing on 90 days.\n"
          ]
        }
      ]
    },
    {
      "cell_type": "code",
      "source": [
        "from math import sqrt\n",
        "from sklearn.metrics import mean_squared_error, mean_absolute_error\n",
        "\n",
        "def mean_absolute_percentage_error(y_true, y_pred):\n",
        "    y_true, y_pred = np.array(y_true), np.array(y_pred)\n",
        "    y_true[y_true == 0] = 1e-6\n",
        "    return np.mean(np.abs((y_true - y_pred) / y_true)) * 100\n",
        "\n",
        "\n",
        "model_eval = Prophet(\n",
        "    yearly_seasonality=True,\n",
        "    weekly_seasonality=True,\n",
        "    seasonality_mode='additive',\n",
        "    n_changepoints=5\n",
        ")\n",
        "\n",
        "print(\"⏳ Starting model evaluation training (on Train_Eval Set)...\")\n",
        "model_eval.fit(df_train_eval)\n",
        "\n",
        "future_test = df_test_eval[['ds']].copy()\n",
        "forecast_test = model_eval.predict(future_test)\n",
        "\n",
        "y_true = df_test_eval['y'].values\n",
        "y_pred = forecast_test['yhat'].values\n",
        "y_pred[y_pred < 0] = 0\n",
        "\n",
        "mape = mean_absolute_percentage_error(y_true, y_pred)\n",
        "rmse = sqrt(mean_squared_error(y_true, y_pred))\n",
        "mae = mean_absolute_error(y_true, y_pred)\n",
        "\n",
        "print(\"\\n---  Model Performance Metrics on Test Set (Last 90 Days) ---\")\n",
        "print(f\"RMSE (Root Mean Square Error): {rmse:.2f}\")\n",
        "print(f\"MAE (Mean Absolute Error): {mae:.2f}\")\n",
        "print(f\"MAPE (Mean Absolute Percentage Error): {mape:.2f}% (STABLE ADDITIVE MODEL)\")\n",
        "print(\"---------------------------------------------------------\")\n",
        "\n",
        "\n",
        "\n",
        "MAPE_SCORE = mape\n",
        "joblib.dump(MAPE_SCORE, 'mape_score.pkl')\n",
        "\n",
        "print(\"\\n⏳ Retraining FINAL PRODUCTION model on FULL historical data...\")\n",
        "final_model = Prophet(\n",
        "    yearly_seasonality=True,\n",
        "    weekly_seasonality=True,\n",
        "    seasonality_mode='additive',\n",
        "    n_changepoints=5\n",
        ")\n",
        "final_model.fit(df_prophet)\n",
        "\n",
        "MODEL_FILE_NAME = 'prophet_final_model_store_1.pkl'\n",
        "joblib.dump(final_model, MODEL_FILE_NAME)\n",
        "\n",
        "print(f\" Final Production Model saved to: {MODEL_FILE_NAME}\")\n",
        "print(f\" MAPE score saved to 'mape_score.pkl'.\")"
      ],
      "metadata": {
        "id": "8jqD72Ib5vfM",
        "outputId": "d070bf4f-41c8-4c45-f4a9-be33c02a6aa0",
        "colab": {
          "base_uri": "https://localhost:8080/"
        }
      },
      "execution_count": 3,
      "outputs": [
        {
          "output_type": "stream",
          "name": "stderr",
          "text": [
            "INFO:prophet:Disabling daily seasonality. Run prophet with daily_seasonality=True to override this.\n",
            "DEBUG:cmdstanpy:input tempfile: /tmp/tmp0ha4ufof/_xunqk9a.json\n",
            "DEBUG:cmdstanpy:input tempfile: /tmp/tmp0ha4ufof/lz19iauq.json\n",
            "DEBUG:cmdstanpy:idx 0\n",
            "DEBUG:cmdstanpy:running CmdStan, num_threads: None\n",
            "DEBUG:cmdstanpy:CmdStan args: ['/usr/local/lib/python3.12/dist-packages/prophet/stan_model/prophet_model.bin', 'random', 'seed=65304', 'data', 'file=/tmp/tmp0ha4ufof/_xunqk9a.json', 'init=/tmp/tmp0ha4ufof/lz19iauq.json', 'output', 'file=/tmp/tmp0ha4ufof/prophet_model1hkkoxzn/prophet_model-20250929235604.csv', 'method=optimize', 'algorithm=lbfgs', 'iter=10000']\n",
            "23:56:04 - cmdstanpy - INFO - Chain [1] start processing\n",
            "INFO:cmdstanpy:Chain [1] start processing\n",
            "23:56:04 - cmdstanpy - INFO - Chain [1] done processing\n",
            "INFO:cmdstanpy:Chain [1] done processing\n"
          ]
        },
        {
          "output_type": "stream",
          "name": "stdout",
          "text": [
            "⏳ Starting model evaluation training (on Train_Eval Set)...\n"
          ]
        },
        {
          "output_type": "stream",
          "name": "stderr",
          "text": [
            "INFO:prophet:Disabling daily seasonality. Run prophet with daily_seasonality=True to override this.\n",
            "DEBUG:cmdstanpy:input tempfile: /tmp/tmp0ha4ufof/xy8s5ro7.json\n",
            "DEBUG:cmdstanpy:input tempfile: /tmp/tmp0ha4ufof/p4b17syq.json\n",
            "DEBUG:cmdstanpy:idx 0\n",
            "DEBUG:cmdstanpy:running CmdStan, num_threads: None\n",
            "DEBUG:cmdstanpy:CmdStan args: ['/usr/local/lib/python3.12/dist-packages/prophet/stan_model/prophet_model.bin', 'random', 'seed=92751', 'data', 'file=/tmp/tmp0ha4ufof/xy8s5ro7.json', 'init=/tmp/tmp0ha4ufof/p4b17syq.json', 'output', 'file=/tmp/tmp0ha4ufof/prophet_modelve_uuovz/prophet_model-20250929235604.csv', 'method=optimize', 'algorithm=lbfgs', 'iter=10000']\n",
            "23:56:04 - cmdstanpy - INFO - Chain [1] start processing\n",
            "INFO:cmdstanpy:Chain [1] start processing\n",
            "23:56:04 - cmdstanpy - INFO - Chain [1] done processing\n",
            "INFO:cmdstanpy:Chain [1] done processing\n"
          ]
        },
        {
          "output_type": "stream",
          "name": "stdout",
          "text": [
            "\n",
            "--- 📊 Model Performance Metrics on Test Set (Last 90 Days) ---\n",
            "RMSE (Root Mean Square Error): 922.35\n",
            "MAE (Mean Absolute Error): 787.05\n",
            "MAPE (Mean Absolute Percentage Error): 17.74% (STABLE ADDITIVE MODEL)\n",
            "---------------------------------------------------------\n",
            "\n",
            "⏳ Retraining FINAL PRODUCTION model on FULL historical data...\n",
            "✅ Final Production Model saved to: prophet_final_model_store_1.pkl\n",
            "✅ MAPE score saved to 'mape_score.pkl'.\n"
          ]
        }
      ]
    },
    {
      "cell_type": "code",
      "source": [
        "%%writefile app.py\n",
        "import streamlit as st\n",
        "import joblib\n",
        "import pandas as pd\n",
        "from prophet import Prophet\n",
        "import plotly.graph_objects as go\n",
        "import numpy as np\n",
        "\n",
        "MODEL_FILE = 'prophet_final_model_store_1.pkl'\n",
        "DATA_FILE = 'full_store_data.csv'\n",
        "MAPE_FILE = 'mape_score.pkl'\n",
        "\n",
        "@st.cache_resource\n",
        "def load_assets():\n",
        "    try:\n",
        "        model = joblib.load(MODEL_FILE)\n",
        "        df_history = pd.read_csv(DATA_FILE)\n",
        "        df_history['ds'] = pd.to_datetime(df_history['ds'])\n",
        "        mape_score = joblib.load(MAPE_FILE)\n",
        "        return model, df_history, mape_score\n",
        "    except Exception as e:\n",
        "        st.error(f\" ERROR loading assets: Ensure .pkl and .csv files exist after training. Error: {e}\")\n",
        "        return None, None, 0.0\n",
        "\n",
        "model, df_history, mape_score = load_assets()\n",
        "\n",
        "st.set_page_config(page_title=\"Sales Forecasting\", layout=\"wide\")\n",
        "\n",
        "st.title(\"💰 Sales Forecast for Store 1 (Rossmann)\")\n",
        "st.markdown(\"This model provides a 60-day sales forecast, crucial for inventory and financial planning.\")\n",
        "st.markdown(f\"**Model Performance (MAPE on Test Set): {mape_score:.2f}%**\")\n",
        "st.divider()\n",
        "\n",
        "if model is not None and not df_history.empty:\n",
        "\n",
        "    future_periods = 60\n",
        "    future = model.make_future_dataframe(periods=future_periods, include_history=True)\n",
        "    forecast = model.predict(future)\n",
        "\n",
        "\n",
        "    fig = go.Figure()\n",
        "\n",
        "    fig.add_trace(go.Scatter(\n",
        "        x=df_history['ds'], y=df_history['y'], mode='lines', name='Actual Sales', line=dict(color='blue')\n",
        "    ))\n",
        "\n",
        "    fig.add_trace(go.Scatter(\n",
        "        x=forecast['ds'], y=forecast['yhat'], mode='lines', name='Forecast', line=dict(color='red', dash='dash')\n",
        "    ))\n",
        "\n",
        "    fig.add_trace(go.Scatter(\n",
        "        x=forecast['ds'], y=forecast['yhat_upper'], line=dict(color='rgba(255, 0, 0, 0)'), showlegend=False\n",
        "    ))\n",
        "    fig.add_trace(\n",
        "        go.Scatter(\n",
        "            x=forecast['ds'], y=forecast['yhat_lower'], fill='tonexty', fillcolor='rgba(255, 0, 0, 0.2)',\n",
        "            line=dict(color='rgba(255, 0, 0, 0)'), name='80% Confidence Interval'\n",
        "        )\n",
        "    )\n",
        "\n",
        "    last_historical_date = df_history['ds'].max()\n",
        "    fig.add_vrect(\n",
        "        x0=last_historical_date, x1=forecast['ds'].max(),\n",
        "        fillcolor=\"yellow\", opacity=0.1, line_width=0,\n",
        "        annotation_text=\"Forecast Period\", annotation_position=\"top left\"\n",
        "    )\n",
        "\n",
        "    fig.update_layout(\n",
        "        title='Historical Data vs. 60-Day Sales Forecast',\n",
        "        yaxis_title=\"Sales\",\n",
        "        xaxis_title=\"Date\",\n",
        "        hovermode=\"x unified\"\n",
        "    )\n",
        "\n",
        "    st.plotly_chart(fig, use_container_width=True)\n",
        "\n",
        "    st.subheader(\"Numerical Forecast for the Next 60 Days\")\n",
        "\n",
        "    future_60_days = forecast[forecast['ds'] > last_historical_date]\n",
        "\n",
        "    st.dataframe(\n",
        "        future_60_days[['ds', 'yhat', 'yhat_lower', 'yhat_upper']]\n",
        "        .rename(columns={'ds': 'Date', 'yhat': 'Forecasted Sales', 'yhat_lower': 'Lower Bound', 'yhat_upper': 'Upper Bound'}),\n",
        "        hide_index=True\n",
        "    )\n",
        "else:\n",
        "    st.warning(\" Please ensure the model training and saving steps (Cells 2 & 3) have been executed successfully.\")"
      ],
      "metadata": {
        "id": "h-w01jDY5x-_",
        "outputId": "44be7fce-4d4a-452d-8563-3e6e8541a59a",
        "colab": {
          "base_uri": "https://localhost:8080/"
        }
      },
      "execution_count": 4,
      "outputs": [
        {
          "output_type": "stream",
          "name": "stdout",
          "text": [
            "Writing app.py\n"
          ]
        }
      ]
    },
    {
      "cell_type": "code",
      "source": [
        "from pyngrok import ngrok\n",
        "import subprocess\n",
        "import time\n",
        "\n",
        "ngrok.set_auth_token(\"33N8aDY3T5EQb72svd5Sy3jy3G8_4z8iguAK4mpfxkCd1Aah4\") # تأكد أن هذا السطر يبدأ من أقصى اليسار\n",
        "\n",
        "print(\" Starting Streamlit deployment...\")\n",
        "p = subprocess.Popen(['streamlit', 'run', 'app.py'], stdout=subprocess.PIPE, stderr=subprocess.PIPE)\n",
        "\n",
        "time.sleep(5)\n",
        "\n",
        "try:\n",
        "    public_url = ngrok.connect(8501)\n",
        "    print(f\"\\n---  Streamlit App Deployed! ---\")\n",
        "    print(f\"Public URL: {public_url}\")\n",
        "    print(\"\\nClick the link above to access the forecasting app.\")\n",
        "\n",
        "except Exception as e:\n",
        "    print(f\"\\n ngrok connection failed: {e}\")\n",
        "    print(\"Ensure you have a valid ngrok Authtoken and the line is uncommented.\")"
      ],
      "metadata": {
        "id": "UsL3ymLp6VYp",
        "outputId": "cc8a01cc-e4a9-4480-8066-5c4d2977663e",
        "colab": {
          "base_uri": "https://localhost:8080/"
        }
      },
      "execution_count": 6,
      "outputs": [
        {
          "output_type": "stream",
          "name": "stdout",
          "text": [
            "⏳ Starting Streamlit deployment...\n",
            "\n",
            "---  Streamlit App Deployed! ---\n",
            "Public URL: NgrokTunnel: \"https://gratuitous-debroah-distraughtly.ngrok-free.dev\" -> \"http://localhost:8501\"\n",
            "\n",
            "Click the link above to access the forecasting app.\n"
          ]
        }
      ]
    },
    {
      "cell_type": "code",
      "source": [],
      "metadata": {
        "id": "al9RgxkU6nIE"
      },
      "execution_count": null,
      "outputs": []
    }
  ]
}